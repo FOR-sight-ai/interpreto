{
 "cells": [
  {
   "cell_type": "code",
   "execution_count": null,
   "id": "4f069aff",
   "metadata": {},
   "outputs": [
    {
     "name": "stderr",
     "output_type": "stream",
     "text": [
      "/home/fanny.jourdan/dev/interpreto/.venv/lib/python3.10/site-packages/tqdm/auto.py:21: TqdmWarning: IProgress not found. Please update jupyter and ipywidgets. See https://ipywidgets.readthedocs.io/en/stable/user_install.html\n",
      "  from .autonotebook import tqdm as notebook_tqdm\n"
     ]
    }
   ],
   "source": [
    "import matplotlib.colors as mcolors\n",
    "from transformers import AutoModelForSequenceClassification, AutoTokenizer\n",
    "\n",
    "from interpreto.attributions.methods import OcclusionExplainer\n",
    "from interpreto.commons.granularity import GranularityLevel\n",
    "from interpreto.visualizations.attributions.classification_highlight import MultiClassAttributionVisualization"
   ]
  },
  {
   "cell_type": "code",
   "execution_count": null,
   "id": "5f71e21e",
   "metadata": {},
   "outputs": [],
   "source": [
    "tokenizer_name = [\n",
    "    \"/data/models/notams/distilbert_tokenizer_no-preproc\",\n",
    "    \"/data/models/notams/distilbert_tokenizer_preproc\",\n",
    "]\n",
    "model_name = [\n",
    "    \"/data/models/notams/distillbert_base_trained-6ep_01-2025\",\n",
    "    \"/data/models/notams/distillbert_base_trained-8ep_no-preproc_base-token_03-2025\",\n",
    "    \"/data/models/notams/distillbert_base_trained-8ep_preproc_base-token_03-2025\",\n",
    "    \"/data/models/notams/distillbert_base_trained-8ep_preproc_token-trained_03-2025\",\n",
    "]\n",
    "\n",
    "model = AutoModelForSequenceClassification.from_pretrained(model_name[0], num_labels=13)\n",
    "tokenizer = AutoTokenizer.from_pretrained(tokenizer_name[0])\n",
    "\n",
    "explainer = OcclusionExplainer(model=model, batch_size=4, tokenizer=tokenizer, granularity_level=GranularityLevel.WORD)"
   ]
  },
  {
   "cell_type": "code",
   "execution_count": null,
   "id": "e4a3714b",
   "metadata": {},
   "outputs": [
    {
     "ename": "ValueError",
     "evalue": "Asking to pad but the tokenizer does not have a padding token. Please select a token to use as pad_token (tokenizer.pad_token = tokenizer.eos_token e.g.) or add a new pad token via tokenizer.add_special_tokens({'pad_token': '[PAD]'})",
     "output_type": "error",
     "traceback": [
      "\u001b[0;31m---------------------------------------------------------------------------\u001b[0m",
      "\u001b[0;31mValueError\u001b[0m                                Traceback (most recent call last)",
      "Cell \u001b[0;32mIn[4], line 1\u001b[0m\n\u001b[0;32m----> 1\u001b[0m \u001b[43mexplainer\u001b[49m\u001b[38;5;241;43m.\u001b[39;49m\u001b[43mexplain\u001b[49m\u001b[43m(\u001b[49m\u001b[43mmodel_inputs\u001b[49m\u001b[38;5;241;43m=\u001b[39;49m\u001b[43m[\u001b[49m\u001b[38;5;124;43m\"\u001b[39;49m\u001b[38;5;124;43mI love this movie\u001b[39;49m\u001b[38;5;124;43m\"\u001b[39;49m\u001b[43m,\u001b[49m\u001b[43m \u001b[49m\u001b[38;5;124;43m\"\u001b[39;49m\u001b[38;5;124;43mThis movie is terrible\u001b[39;49m\u001b[38;5;124;43m\"\u001b[39;49m\u001b[43m]\u001b[49m\u001b[43m,\u001b[49m\u001b[43m \u001b[49m\u001b[43mtargets\u001b[49m\u001b[38;5;241;43m=\u001b[39;49m\u001b[43m[\u001b[49m\u001b[38;5;241;43m1\u001b[39;49m\u001b[43m,\u001b[49m\u001b[43m \u001b[49m\u001b[38;5;241;43m0\u001b[39;49m\u001b[43m]\u001b[49m\u001b[43m)\u001b[49m\n",
      "File \u001b[0;32m~/dev/interpreto/interpreto/attributions/base.py:213\u001b[0m, in \u001b[0;36mClassificationAttributionExplainer.explain\u001b[0;34m(self, model_inputs, targets)\u001b[0m\n\u001b[1;32m    206\u001b[0m model_inputs \u001b[38;5;241m=\u001b[39m \u001b[38;5;28mself\u001b[39m\u001b[38;5;241m.\u001b[39mprocess_model_inputs(model_inputs)\n\u001b[1;32m    208\u001b[0m \u001b[38;5;66;03m# token_count = [len(item[\"input_ids\"][0]) for item in model_inputs]\u001b[39;00m\n\u001b[1;32m    209\u001b[0m \u001b[38;5;66;03m# sorted_indices = sorted(range(len(token_count)), key=lambda k: token_count[k], reverse=True)\u001b[39;00m\n\u001b[1;32m    210\u001b[0m \n\u001b[1;32m    211\u001b[0m \u001b[38;5;66;03m# Reference inference\u001b[39;00m\n\u001b[1;32m    212\u001b[0m \u001b[38;5;66;03m# logits = torch.stack(list(self.inference_wrapper.get_logits(model_inputs[i] for i in sorted_indices)))\u001b[39;00m\n\u001b[0;32m--> 213\u001b[0m logits \u001b[38;5;241m=\u001b[39m torch\u001b[38;5;241m.\u001b[39mstack(\u001b[38;5;28;43mlist\u001b[39;49m\u001b[43m(\u001b[49m\u001b[38;5;28;43mself\u001b[39;49m\u001b[38;5;241;43m.\u001b[39;49m\u001b[43minference_wrapper\u001b[49m\u001b[38;5;241;43m.\u001b[39;49m\u001b[43mget_logits\u001b[49m\u001b[43m(\u001b[49m\u001b[43mmodel_inputs\u001b[49m\u001b[43m)\u001b[49m\u001b[43m)\u001b[49m)\n\u001b[1;32m    215\u001b[0m \u001b[38;5;28;01mif\u001b[39;00m targets \u001b[38;5;129;01mis\u001b[39;00m \u001b[38;5;28;01mNone\u001b[39;00m:\n\u001b[1;32m    216\u001b[0m     targets \u001b[38;5;241m=\u001b[39m logits\u001b[38;5;241m.\u001b[39margmax(dim\u001b[38;5;241m=\u001b[39m\u001b[38;5;241m-\u001b[39m\u001b[38;5;241m1\u001b[39m)\n",
      "File \u001b[0;32m~/dev/interpreto/interpreto/commons/model_wrapping/inference_wrapper.py:316\u001b[0m, in \u001b[0;36mInferenceWrapper._get_logits_from_iterable\u001b[0;34m(self, model_inputs)\u001b[0m\n\u001b[1;32m    314\u001b[0m \u001b[38;5;66;03m# If no pad token id has been given\u001b[39;00m\n\u001b[1;32m    315\u001b[0m \u001b[38;5;28;01mif\u001b[39;00m \u001b[38;5;28mself\u001b[39m\u001b[38;5;241m.\u001b[39mpad_token_id \u001b[38;5;129;01mis\u001b[39;00m \u001b[38;5;28;01mNone\u001b[39;00m:\n\u001b[0;32m--> 316\u001b[0m     \u001b[38;5;28;01mraise\u001b[39;00m \u001b[38;5;167;01mValueError\u001b[39;00m(\n\u001b[1;32m    317\u001b[0m         \u001b[38;5;124m\"\u001b[39m\u001b[38;5;124mAsking to pad but the tokenizer does not have a padding token. Please select a token to use as pad_token (tokenizer.pad_token = tokenizer.eos_token e.g.) or add a new pad token via tokenizer.add_special_tokens(\u001b[39m\u001b[38;5;124m{\u001b[39m\u001b[38;5;124m'\u001b[39m\u001b[38;5;124mpad_token\u001b[39m\u001b[38;5;124m'\u001b[39m\u001b[38;5;124m: \u001b[39m\u001b[38;5;124m'\u001b[39m\u001b[38;5;124m[PAD]\u001b[39m\u001b[38;5;124m'\u001b[39m\u001b[38;5;124m})\u001b[39m\u001b[38;5;124m\"\u001b[39m\n\u001b[1;32m    318\u001b[0m     )\n\u001b[1;32m    320\u001b[0m result_buffer: torch\u001b[38;5;241m.\u001b[39mTensor \u001b[38;5;241m|\u001b[39m \u001b[38;5;28;01mNone\u001b[39;00m \u001b[38;5;241m=\u001b[39m \u001b[38;5;28;01mNone\u001b[39;00m\n\u001b[1;32m    321\u001b[0m result_indexes: \u001b[38;5;28mlist\u001b[39m[\u001b[38;5;28mint\u001b[39m] \u001b[38;5;241m=\u001b[39m []\n",
      "\u001b[0;31mValueError\u001b[0m: Asking to pad but the tokenizer does not have a padding token. Please select a token to use as pad_token (tokenizer.pad_token = tokenizer.eos_token e.g.) or add a new pad token via tokenizer.add_special_tokens({'pad_token': '[PAD]'})"
     ]
    }
   ],
   "source": [
    "attribution_outputs = explainer.explain(model_inputs=[\"I love this movie\", \"This movie is terrible\"], targets=[1, 0])"
   ]
  },
  {
   "cell_type": "code",
   "execution_count": null,
   "id": "63b48fe5",
   "metadata": {},
   "outputs": [],
   "source": [
    "viz = MultiClassAttributionVisualization(\n",
    "    attribution_output_list=attribution_outputs,\n",
    "    class_colors=[mcolors.to_rgb(\"green\"), mcolors.to_rgb(\"blue\")],\n",
    "    class_names=[\"class1\", \"class2\"],\n",
    "    css=\".common-word-style {font-size: 1.5em}\",\n",
    ")\n",
    "viz.display()\n"
   ]
  }
 ],
 "metadata": {
  "kernelspec": {
   "display_name": "interpreto",
   "language": "python",
   "name": "interpreto"
  },
  "language_info": {
   "codemirror_mode": {
    "name": "ipython",
    "version": 3
   },
   "file_extension": ".py",
   "mimetype": "text/x-python",
   "name": "python",
   "nbconvert_exporter": "python",
   "pygments_lexer": "ipython3",
   "version": "3.10.12"
  }
 },
 "nbformat": 4,
 "nbformat_minor": 5
}
