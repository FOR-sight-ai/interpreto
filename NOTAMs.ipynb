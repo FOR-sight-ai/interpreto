{
 "cells": [
  {
   "cell_type": "code",
   "execution_count": null,
   "id": "4f069aff",
   "metadata": {},
   "outputs": [],
   "source": [
    "from transformers import AutoModelForSequenceClassification, AutoTokenizer\n",
    "\n",
    "from interpreto.attributions.methods import OcclusionExplainer\n",
    "from interpreto.commons.granularity import GranularityLevel"
   ]
  },
  {
   "cell_type": "code",
   "execution_count": null,
   "id": "5f71e21e",
   "metadata": {},
   "outputs": [],
   "source": [
    "name = \"distilbert-base-uncased-finetuned-sst-2-english\"\n",
    "model = AutoModelForSequenceClassification.from_pretrained(name)\n",
    "tokenizer = AutoTokenizer.from_pretrained(name)\n",
    "\n",
    "\n",
    "explainer = OcclusionExplainer(\n",
    "    model=model, batch_size=4, tokenizer=tokenizer, granularity_level=GranularityLevel.WORD, device=\"gpu\"\n",
    ")"
   ]
  },
  {
   "cell_type": "code",
   "execution_count": null,
   "id": "e4a3714b",
   "metadata": {},
   "outputs": [],
   "source": [
    "explainer.explain(model_inputs=[\"I love this movie\", \"This movie is terrible\"], targets=[1, 0])"
   ]
  }
 ],
 "metadata": {
  "language_info": {
   "name": "python"
  }
 },
 "nbformat": 4,
 "nbformat_minor": 5
}
