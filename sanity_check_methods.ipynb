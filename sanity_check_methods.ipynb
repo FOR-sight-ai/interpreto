{
 "cells": [
  {
   "cell_type": "code",
   "execution_count": 1,
   "id": "e87d732a",
   "metadata": {},
   "outputs": [],
   "source": [
    "import torch\n",
    "from transformers import AutoModelForSequenceClassification, AutoTokenizer\n",
    "\n",
    "from interpreto.attributions.base import InferenceModes\n",
    "from interpreto.attributions.methods import (\n",
    "    IntegratedGradients,\n",
    "    KernelShap,\n",
    "    Lime,\n",
    "    Occlusion,\n",
    "    Saliency,\n",
    "    SmoothGrad,\n",
    "    Sobol,\n",
    ")\n",
    "from interpreto.commons.granularity import Granularity\n",
    "from interpreto.visualizations.attributions.classification_highlight import (\n",
    "    MultiClassAttributionVisualization,\n",
    "    SingleClassAttributionVisualization,\n",
    ")"
   ]
  },
  {
   "cell_type": "code",
   "execution_count": 2,
   "id": "dcdeb65d",
   "metadata": {},
   "outputs": [],
   "source": [
    "import pandas as pd\n",
    "\n",
    "dataset_path = \"/data/fanny.jourdan/interpreto_test/labeled_noise_text_dataset.txt\"\n",
    "model_name = \"/data/fanny.jourdan/interpreto_test/distilbert_trivial_classifier\"\n",
    "tokenizer_name = \"hf-internal-testing/tiny-random-distilbert\"\n",
    "\n",
    "model = AutoModelForSequenceClassification.from_pretrained(model_name)\n",
    "tokenizer = AutoTokenizer.from_pretrained(tokenizer_name)\n",
    "df = pd.read_csv(dataset_path)"
   ]
  },
  {
   "cell_type": "code",
   "execution_count": null,
   "id": "90c3af29",
   "metadata": {},
   "outputs": [],
   "source": [
    "list_explainers = [\n",
    "    Occlusion(model=model, batch_size=4, tokenizer=tokenizer, granularity=Granularity.WORD),\n",
    "    IntegratedGradients(model=model, batch_size=4, tokenizer=tokenizer, n_interpolations=10),\n",
    "    SmoothGrad(model=model, batch_size=4, tokenizer=tokenizer, n_interpolations=50, noise_level=0.01),\n",
    "    Saliency(model=model, batch_size=4, tokenizer=tokenizer),\n",
    "    Lime(\n",
    "        model=model,\n",
    "        batch_size=4,\n",
    "        tokenizer=tokenizer,\n",
    "        n_perturbations=20,\n",
    "        granularity=Granularity.WORD,\n",
    "        distance_function=Lime.distance_functions.HAMMING,\n",
    "        inference_mode=InferenceModes.SOFTMAX,\n",
    "    ),\n",
    "    Sobol(\n",
    "        model=model,\n",
    "        batch_size=4,\n",
    "        tokenizer=tokenizer,\n",
    "        n_token_perturbations=16,\n",
    "        granularity=Granularity.WORD,\n",
    "        sobol_indices_order=Sobol.sobol_indices_orders.TOTAL_ORDER,\n",
    "    ),\n",
    "    KernelShap(\n",
    "        model=model,\n",
    "        batch_size=4,\n",
    "        tokenizer=tokenizer,\n",
    "        n_perturbations=20,\n",
    "        granularity=Granularity.WORD,\n",
    "        inference_mode=InferenceModes.SOFTMAX,\n",
    "    ),\n",
    "]\n",
    "\n",
    "k = 10\n",
    "\n",
    "for explainer in list_explainers:\n",
    "    print(f\"Explaining with {explainer.__class__.__name__}\")\n",
    "    attribution_outputs = explainer.explain(model_inputs=[df[\"text\"][k]])\n",
    "\n",
    "    viz = SingleClassAttributionVisualization(\n",
    "        attribution_output=attribution_outputs[0],\n",
    "        css=\".common-word-style { margin-right: 0.3em }\",\n",
    "    )\n",
    "    viz.display()"
   ]
  },
  {
   "cell_type": "code",
   "execution_count": null,
   "id": "85170ebf",
   "metadata": {},
   "outputs": [],
   "source": [
    "k = 10\n",
    "\n",
    "for explainer in list_explainers:\n",
    "    print(f\"Explaining with {explainer.__class__.__name__}\")\n",
    "    attribution_outputs = explainer.explain(model_inputs=[df[\"text\"][k]], targets=torch.tensor([[0, 1]]))\n",
    "\n",
    "    viz = MultiClassAttributionVisualization(\n",
    "        attribution_output=attribution_outputs[0],\n",
    "        class_names=[\"A\", \"B\"],\n",
    "        css=\".common-word-style { margin-right: 0.3em }\",\n",
    "    )\n",
    "    viz.display()"
   ]
  }
 ],
 "metadata": {
  "kernelspec": {
   "display_name": "interpreto",
   "language": "python",
   "name": "interpreto"
  },
  "language_info": {
   "codemirror_mode": {
    "name": "ipython",
    "version": 3
   },
   "file_extension": ".py",
   "mimetype": "text/x-python",
   "name": "python",
   "nbconvert_exporter": "python",
   "pygments_lexer": "ipython3",
   "version": "3.10.12"
  }
 },
 "nbformat": 4,
 "nbformat_minor": 5
}
