{
 "cells": [
  {
   "cell_type": "code",
   "execution_count": null,
   "metadata": {},
   "outputs": [],
   "source": [
    "%load_ext autoreload\n",
    "%autoreload 2"
   ]
  },
  {
   "cell_type": "code",
   "execution_count": null,
   "metadata": {},
   "outputs": [],
   "source": [
    "import sys\n",
    "import torch\n",
    "\n",
    "sys.path.append(\"../..\")\n",
    "from interpreto.attributions.base import AttributionOutput\n",
    "from interpreto.visualizations.attributions.classification_highlight import MultiClassAttributionVisualization\n",
    "from interpreto.visualizations import colormap_helpers"
   ]
  },
  {
   "cell_type": "code",
   "execution_count": null,
   "metadata": {},
   "outputs": [],
   "source": [
    "# attributions (2 classes)\n",
    "nb_classes = 2\n",
    "inputs_sentences = [\"A\", \"B\", \"C\", \"one\", \"two\", \"three\"]\n",
    "\n",
    "# Simulate and attribution output for the 1st sentence\n",
    "sentence = inputs_sentences\n",
    "# attributions = torch.rand(nb_classes, len(sentence)) # (c, l)\n",
    "attributions = torch.tensor([[0.1, 0.2, -0.3, -0.4, 0.5, 1.0], [0.6, 0.5, 0.4, 0.3, 0.2, -1]])\n",
    "attribution_output = AttributionOutput(elements=sentence, attributions=attributions)"
   ]
  },
  {
   "cell_type": "code",
   "execution_count": null,
   "metadata": {},
   "outputs": [],
   "source": [
    "# Default display for the 1st sentence\n",
    "viz = MultiClassAttributionVisualization(\n",
    "    attribution_output=attribution_output,\n",
    "    class_names=[\"class 1\", \"class 2\"])\n",
    "viz.display()"
   ]
  },
  {
   "cell_type": "code",
   "execution_count": null,
   "metadata": {},
   "outputs": [],
   "source": [
    "# Disable normalization\n",
    "viz = MultiClassAttributionVisualization(\n",
    "    attribution_output=attribution_output,\n",
    "    class_names=[\"class 1\", \"class 2\"],\n",
    "    normalize=False,\n",
    ")\n",
    "viz.display()"
   ]
  },
  {
   "cell_type": "code",
   "execution_count": null,
   "metadata": {},
   "outputs": [],
   "source": [
    "# viz.save(\"attributions_multiclass.html\")"
   ]
  }
 ],
 "metadata": {
  "kernelspec": {
   "display_name": ".venv",
   "language": "python",
   "name": "python3"
  },
  "language_info": {
   "codemirror_mode": {
    "name": "ipython",
    "version": 3
   },
   "file_extension": ".py",
   "mimetype": "text/x-python",
   "name": "python",
   "nbconvert_exporter": "python",
   "pygments_lexer": "ipython3",
   "version": "3.10.16"
  }
 },
 "nbformat": 4,
 "nbformat_minor": 2
}
