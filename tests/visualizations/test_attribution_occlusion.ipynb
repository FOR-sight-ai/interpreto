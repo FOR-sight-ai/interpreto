{
 "cells": [
  {
   "cell_type": "code",
   "execution_count": null,
   "metadata": {},
   "outputs": [],
   "source": [
    "%load_ext autoreload\n",
    "%autoreload 2"
   ]
  },
  {
   "cell_type": "code",
   "execution_count": null,
   "metadata": {},
   "outputs": [],
   "source": [
    "import sys\n",
    "\n",
    "sys.path.append(\"../..\")"
   ]
  },
  {
   "cell_type": "code",
   "execution_count": null,
   "metadata": {},
   "outputs": [],
   "source": [
    "from transformers import AutoModelForSequenceClassification, AutoTokenizer\n",
    "\n",
    "from interpreto.attributions.methods.occlusion import OcclusionExplainer\n",
    "from interpreto.attributions.perturbations.base import GranularityLevel\n",
    "from interpreto.commons.model_wrapping.classification_inference_wrapper import ClassificationInferenceWrapper\n",
    "from interpreto.visualizations.attributions.classification_highlight import SingleClassAttributionVisualization"
   ]
  },
  {
   "cell_type": "code",
   "execution_count": null,
   "metadata": {},
   "outputs": [],
   "source": [
    "model_name = \"textattack/bert-base-uncased-imdb\"\n",
    "test_sentences = [\"Best movie ever\", \"Worst movie ever verylongword\"]\n",
    "tokenizer = AutoTokenizer.from_pretrained(model_name)\n",
    "model = AutoModelForSequenceClassification.from_pretrained(model_name)\n",
    "inference_wrapper = ClassificationInferenceWrapper(model=model, batch_size=4)\n",
    "exp = OcclusionExplainer(\n",
    "    model=model,\n",
    "    tokenizer=tokenizer,\n",
    "    # inference_wrapper=inference_wrapper,\n",
    "    batch_size=4,\n",
    "    granularity_level=GranularityLevel.WORD,\n",
    ")\n",
    "explaination = exp.explain(test_sentences)\n",
    "\n",
    "for elem in explaination:\n",
    "    print(elem.attributions, elem.elements)"
   ]
  },
  {
   "cell_type": "code",
   "execution_count": null,
   "metadata": {},
   "outputs": [],
   "source": [
    "for sentence_explained in explaination:\n",
    "    viz = SingleClassAttributionVisualization(attribution_output=sentence_explained)\n",
    "    viz.display()"
   ]
  }
 ],
 "metadata": {
  "kernelspec": {
   "display_name": ".venv",
   "language": "python",
   "name": "python3"
  },
  "language_info": {
   "codemirror_mode": {
    "name": "ipython",
    "version": 3
   },
   "file_extension": ".py",
   "mimetype": "text/x-python",
   "name": "python",
   "nbconvert_exporter": "python",
   "pygments_lexer": "ipython3",
   "version": "3.10.16"
  }
 },
 "nbformat": 4,
 "nbformat_minor": 2
}
