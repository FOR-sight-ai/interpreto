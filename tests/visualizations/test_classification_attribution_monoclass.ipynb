{
 "cells": [
  {
   "cell_type": "code",
   "execution_count": null,
   "metadata": {},
   "outputs": [],
   "source": [
    "%load_ext autoreload\n",
    "%autoreload 2"
   ]
  },
  {
   "cell_type": "code",
   "execution_count": null,
   "metadata": {},
   "outputs": [],
   "source": [
    "import sys\n",
    "import torch\n",
    "\n",
    "sys.path.append(\"../..\")\n",
    "from interpreto.attributions.base import AttributionOutput\n",
    "from interpreto.visualizations.attributions.classification_highlight import SingleClassAttributionVisualization"
   ]
  },
  {
   "cell_type": "code",
   "execution_count": null,
   "metadata": {},
   "outputs": [],
   "source": [
    "# attributions (1 classe)\n",
    "sentence = [\"A\", \"B\", \"C\", \"one\", \"two\", \"three\"]\n",
    "attributions = torch.linspace(-10, 10, steps=len(sentence))\n",
    "single_class_classification_output = AttributionOutput(elements=sentence, attributions=attributions)"
   ]
  },
  {
   "cell_type": "code",
   "execution_count": null,
   "metadata": {},
   "outputs": [],
   "source": [
    "# Default display\n",
    "viz = SingleClassAttributionVisualization(attribution_output=single_class_classification_output)\n",
    "viz.display()"
   ]
  },
  {
   "cell_type": "code",
   "execution_count": null,
   "metadata": {},
   "outputs": [],
   "source": [
    "# Highlight the border\n",
    "viz = SingleClassAttributionVisualization(attribution_output=single_class_classification_output, highlight_border=True)\n",
    "viz.display()"
   ]
  },
  {
   "cell_type": "code",
   "execution_count": null,
   "metadata": {},
   "outputs": [],
   "source": [
    "# Disable the normalization\n",
    "viz = SingleClassAttributionVisualization(attribution_output=single_class_classification_output, normalize=False)\n",
    "viz.display()"
   ]
  },
  {
   "cell_type": "code",
   "execution_count": null,
   "metadata": {},
   "outputs": [],
   "source": [
    "# viz.save(\"attributions_monoclass.html\")"
   ]
  }
 ],
 "metadata": {
  "kernelspec": {
   "display_name": ".venv",
   "language": "python",
   "name": "python3"
  },
  "language_info": {
   "codemirror_mode": {
    "name": "ipython",
    "version": 3
   },
   "file_extension": ".py",
   "mimetype": "text/x-python",
   "name": "python",
   "nbconvert_exporter": "python",
   "pygments_lexer": "ipython3",
   "version": "3.10.16"
  }
 },
 "nbformat": 4,
 "nbformat_minor": 2
}
